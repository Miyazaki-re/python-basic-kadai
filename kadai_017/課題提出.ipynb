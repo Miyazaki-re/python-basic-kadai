{
  "nbformat": 4,
  "nbformat_minor": 0,
  "metadata": {
    "colab": {
      "provenance": []
    },
    "kernelspec": {
      "name": "python3",
      "display_name": "Python 3"
    },
    "language_info": {
      "name": "python"
    }
  },
  "cells": [
    {
      "cell_type": "code",
      "source": [
        "#クラスHumanを作成\n",
        "#属性nameとage\n",
        "class Human:\n",
        "  def __init__(self, name, age):\n",
        "    self.name = name\n",
        "    self.age = age\n",
        "#check_adultメソッドで、年齢が20歳以上かどうかで分岐\n",
        "  def check_adult(self):\n",
        "    if self.age >= 20:\n",
        "      print(f\"{self.name}さんは大人です。\")\n",
        "    else :\n",
        "      print(f\"{self.name}さんは大人ではありません。\")\n",
        "\n",
        "people = [\n",
        "    Human(\"太郎\", 25),\n",
        "    Human(\"花子\", 17),\n",
        "    Human(\"健一\", 30),\n",
        "    Human(\"美咲\", 19)\n",
        "    ]\n",
        "\n",
        "for person in people:\n",
        "  person.check_adult()"
      ],
      "metadata": {
        "colab": {
          "base_uri": "https://localhost:8080/"
        },
        "id": "ZdrJ6THtKddO",
        "outputId": "24c75111-9a5d-48f1-acd3-bb9376c348dc"
      },
      "execution_count": 1,
      "outputs": [
        {
          "output_type": "stream",
          "name": "stdout",
          "text": [
            "太郎さんは大人です。\n",
            "花子さんは大人ではありません。\n",
            "健一さんは大人です。\n",
            "美咲さんは大人ではありません。\n"
          ]
        }
      ]
    }
  ]
}