{
  "nbformat": 4,
  "nbformat_minor": 0,
  "metadata": {
    "colab": {
      "provenance": []
    },
    "kernelspec": {
      "name": "python3",
      "display_name": "Python 3"
    },
    "language_info": {
      "name": "python"
    }
  },
  "cells": [
    {
      "cell_type": "markdown",
      "source": [
        "上辺：10cm\n",
        "下辺：20cm\n",
        "高さ：5cm\n",
        "\n",
        "公式：台形の面積 =（上辺＋下辺）× 高さ ÷ 2"
      ],
      "metadata": {
        "id": "QCxo5ErqojrA"
      }
    },
    {
      "cell_type": "markdown",
      "source": [
        "下記の台形の面積の計算結果を出力するプログラムを記述してください。\n",
        "出力結果は「◯◯cm²」となるように単位をつけてください。"
      ],
      "metadata": {
        "id": "1ymXcx3ooo5C"
      }
    },
    {
      "cell_type": "code",
      "source": [
        "# prompt: 上辺：10cm 下辺：20cm 高さ：5cm\n",
        "# 公式：台形の面積 =（上辺＋下辺）× 高さ ÷ 2下記の台形の面積の計算結果を出力するプログラムを記述してください。 出力結果は「◯◯cm²」となるように単位をつけてください。\n",
        "\n",
        "top_side = 10\n",
        "bottom_side = 20\n",
        "height = 5\n",
        "\n",
        "area = (top_side + bottom_side) * height / 2\n",
        "\n",
        "print(f\"{area}cm²\")\n"
      ],
      "metadata": {
        "colab": {
          "base_uri": "https://localhost:8080/"
        },
        "id": "eKqIwaGIovWV",
        "outputId": "752071fd-5310-4f2b-db3b-153f02457955"
      },
      "execution_count": 1,
      "outputs": [
        {
          "output_type": "stream",
          "name": "stdout",
          "text": [
            "75.0cm²\n"
          ]
        }
      ]
    }
  ]
}