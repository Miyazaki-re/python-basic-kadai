{
  "nbformat": 4,
  "nbformat_minor": 0,
  "metadata": {
    "colab": {
      "provenance": []
    },
    "kernelspec": {
      "name": "python3",
      "display_name": "Python 3"
    },
    "language_info": {
      "name": "python"
    }
  },
  "cells": [
    {
      "cell_type": "markdown",
      "source": [
        "商品購入時の消費税を、関数で計算するプログラムのソースコードを作成して提出してください。以下のヒントを参考にして、プログラムを作成してください。\n",
        "\n",
        "消費税を加えた計算結果を返す関数を記述する 「結果を返す関数」なので戻り値を使用する 第1引数に商品の金額「110」、第2引数に消費税（10%）の「10」を設定する"
      ],
      "metadata": {
        "id": "xU_BMebJThHu"
      }
    },
    {
      "cell_type": "code",
      "source": [
        "#consumption_taxを関数とする\n",
        "#引数1：Price、引数2：Tax\n",
        "def consumption_tax(Price,Tax):\n",
        "  total = int (Price + (Price * Tax / 100))\n",
        "  print(total)\n",
        "\n",
        "consumption_tax(110,10)"
      ],
      "metadata": {
        "id": "WXtQHhTeTiuT"
      },
      "execution_count": null,
      "outputs": []
    }
  ]
}