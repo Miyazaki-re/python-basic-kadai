{
  "nbformat": 4,
  "nbformat_minor": 0,
  "metadata": {
    "colab": {
      "provenance": []
    },
    "kernelspec": {
      "name": "python3",
      "display_name": "Python 3"
    },
    "language_info": {
      "name": "python"
    }
  },
  "cells": [
    {
      "cell_type": "markdown",
      "source": [
        "商品購入時の消費税を、関数で計算するプログラムのソースコードを作成して提出してください。以下のヒントを参考にして、プログラムを作成してください。\n",
        "\n",
        "消費税を加えた計算結果を返す関数を記述する 「結果を返す関数」なので戻り値を使用する 第1引数に商品の金額「110」、第2引数に消費税（10%）の「10」を設定する"
      ],
      "metadata": {
        "id": "xU_BMebJThHu"
      }
    },
    {
      "cell_type": "code",
      "source": [
        "#consumption_taxを関数とする\n",
        "#引数1：Price、引数2：Tax\n",
        "def consumption_tax(Price,Tax):\n",
        "  total = Price + (Price * Tax / 100)\n",
        "  return(total)\n",
        "\n",
        "consumption_tax(110,10)"
      ],
      "metadata": {
        "colab": {
          "base_uri": "https://localhost:8080/"
        },
        "id": "WXtQHhTeTiuT",
        "outputId": "272d98a7-6a9c-48b9-93b2-ab94c9b6ed6c"
      },
      "execution_count": 2,
      "outputs": [
        {
          "output_type": "execute_result",
          "data": {
            "text/plain": [
              "121.0"
            ]
          },
          "metadata": {},
          "execution_count": 2
        }
      ]
    }
  ]
}