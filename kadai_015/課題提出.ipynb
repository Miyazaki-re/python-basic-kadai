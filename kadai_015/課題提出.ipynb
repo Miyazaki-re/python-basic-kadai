{
  "nbformat": 4,
  "nbformat_minor": 0,
  "metadata": {
    "colab": {
      "provenance": []
    },
    "kernelspec": {
      "name": "python3",
      "display_name": "Python 3"
    },
    "language_info": {
      "name": "python"
    }
  },
  "cells": [
    {
      "cell_type": "code",
      "source": [
        "class Human :\n",
        "      def __init__(self, name, age):\n",
        "        # 属性を定義する\n",
        "        self.name = name\n",
        "        self.age = age\n",
        "        # メソッドを定義する\n",
        "      def printinfo(self):\n",
        "           print(self.name,self.age)\n",
        "\n",
        "# インスタンス化する\n",
        "human = Human(36,\"侍太郎\" )\n",
        "\n",
        "# 属性にアクセスし、値を出力する\n",
        "human.printinfo()\n"
      ],
      "metadata": {
        "colab": {
          "base_uri": "https://localhost:8080/"
        },
        "id": "ZdrJ6THtKddO",
        "outputId": "34fba70b-2379-444e-e214-bb1e8fb8248d"
      },
      "execution_count": 1,
      "outputs": [
        {
          "output_type": "stream",
          "name": "stdout",
          "text": [
            "36 侍太郎\n"
          ]
        }
      ]
    }
  ]
}