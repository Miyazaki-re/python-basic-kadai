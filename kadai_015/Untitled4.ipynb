{
  "nbformat": 4,
  "nbformat_minor": 0,
  "metadata": {
    "colab": {
      "provenance": []
    },
    "kernelspec": {
      "name": "python3",
      "display_name": "Python 3"
    },
    "language_info": {
      "name": "python"
    }
  },
  "cells": [
    {
      "cell_type": "code",
      "source": [
        "class Human :\n",
        "      def __init__(self, name, age):\n",
        "        # 属性を定義する\n",
        "        self.name = name\n",
        "        self.age = age\n",
        "\n",
        "# インスタンス化する\n",
        "human = Human(\"太郎\", 36)\n",
        "\n",
        "# 属性にアクセスし、値を出力する\n",
        "print(human.name)\n",
        "print(human.age)\n"
      ],
      "metadata": {
        "colab": {
          "base_uri": "https://localhost:8080/"
        },
        "id": "ZdrJ6THtKddO",
        "outputId": "e187f8c0-616c-4653-db94-bae11d7722bc"
      },
      "execution_count": 2,
      "outputs": [
        {
          "output_type": "stream",
          "name": "stdout",
          "text": [
            "太郎\n",
            "36\n"
          ]
        }
      ]
    }
  ]
}