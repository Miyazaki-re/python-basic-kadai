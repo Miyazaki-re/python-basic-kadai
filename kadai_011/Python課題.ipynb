{
  "nbformat": 4,
  "nbformat_minor": 0,
  "metadata": {
    "colab": {
      "provenance": []
    },
    "kernelspec": {
      "name": "python3",
      "display_name": "Python 3"
    },
    "language_info": {
      "name": "python"
    }
  },
  "cells": [
    {
      "cell_type": "markdown",
      "source": [
        "array = [\"水\",\"金\",\"地\",\"火\",\"木\",\"土\",\"天\",\"海\",\"冥\"]\n",
        "\n",
        "リストの中身を先頭から全て取り出して、出力結果が以下のようになるプログラムを、for、while、それぞれを利用して記述して下さい。\n",
        "\n",
        "水\n",
        "金\n",
        "地\n",
        "火\n",
        "木\n",
        "土\n",
        "天\n",
        "海\n",
        "冥\n",
        "水\n",
        "金\n",
        "地\n",
        "火\n",
        "木\n",
        "土\n",
        "天\n",
        "海\n",
        "冥"
      ],
      "metadata": {
        "id": "kpfIRjxP81Op"
      }
    },
    {
      "cell_type": "code",
      "source": [
        "#for文で作成\n",
        "#arrayリストを作成\n",
        "array = [\"水\",\"金\",\"地\",\"火\",\"木\",\"土\",\"天\",\"海\",\"冥\"]\n",
        "\n",
        "#2回繰り返す\n",
        "for i in range(2):\n",
        "#変数planetにリストarrayを代入\n",
        "  for planet in array:\n",
        "    print(planet)"
      ],
      "metadata": {
        "id": "zuL9_nJE9D7a"
      },
      "execution_count": null,
      "outputs": []
    },
    {
      "cell_type": "code",
      "source": [
        "#whirleで作成\n",
        "#arrayリストを作成\n",
        "array = [\"水\",\"金\",\"地\",\"火\",\"木\",\"土\",\"天\",\"海\",\"冥\"]\n",
        "\n",
        "#カウンター変数\n",
        "i = 1\n",
        "\n",
        "while i <= 2:\n",
        "    for planet in array:\n",
        "      print(planet)\n",
        "    i = i + 1"
      ],
      "metadata": {
        "id": "iRICGKupEsjS"
      },
      "execution_count": null,
      "outputs": []
    }
  ]
}