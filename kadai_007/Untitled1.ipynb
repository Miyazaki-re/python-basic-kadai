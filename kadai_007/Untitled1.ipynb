{
  "nbformat": 4,
  "nbformat_minor": 0,
  "metadata": {
    "colab": {
      "provenance": []
    },
    "kernelspec": {
      "name": "python3",
      "display_name": "Python 3"
    },
    "language_info": {
      "name": "python"
    }
  },
  "cells": [
    {
      "cell_type": "markdown",
      "source": [
        "「array」という名前のリストを以下の内容で作成してください。\n",
        "\n",
        "リストの順序\tリストに入れる文字列\n",
        "0\t月曜日は晴れです\n",
        "1\t火曜日は雨です\n",
        "2\t水曜日は晴れです\n",
        "3\t木曜日は晴れです\n",
        "4\t金曜日は曇りです\n",
        "5\t土曜日は曇りのち雨です\n",
        "6\t日曜日は雷雨です"
      ],
      "metadata": {
        "id": "EIcoOvnSybMc"
      }
    },
    {
      "cell_type": "code",
      "source": [
        "array = [\"月曜日は晴れです\",\"火曜日は雨です\",\"水曜日は晴れです\",\"木曜日は晴れです\",\"金曜日は曇りです\",\"土曜日は曇りのち雨です\",\"日曜日は雷雨です\"]"
      ],
      "metadata": {
        "colab": {
          "base_uri": "https://localhost:8080/"
        },
        "id": "C1ItElE_1CWT",
        "outputId": "60fec10a-410e-49ca-99bf-9b1a41f3c814"
      },
      "execution_count": 6,
      "outputs": [
        {
          "output_type": "stream",
          "name": "stdout",
          "text": [
            "['月曜日は晴れです', '火曜日は雨です', '水曜日は晴れです', '木曜日は晴れです', '金曜日は曇りです', '土曜日は曇りのち雨です', '日曜日は雷雨です']\n"
          ]
        }
      ]
    },
    {
      "cell_type": "code",
      "source": [],
      "metadata": {
        "id": "mXJpOGBy3GfL"
      },
      "execution_count": null,
      "outputs": []
    },
    {
      "cell_type": "markdown",
      "source": [
        "「dictionary」という名前のディクショナリを以下の内容で作成してください。\n",
        "\n",
        "キー\tディクショナリに入れる文字列\n",
        "mon\t晴れ\n",
        "tue\t雨\n",
        "wed\t晴れ\n",
        "thu\t晴れ\n",
        "fri\t曇り\n",
        "sat\t曇りのち雨\n",
        "sun\t雷雨"
      ],
      "metadata": {
        "id": "YrKGwhdh3Fox"
      }
    },
    {
      "cell_type": "code",
      "source": [
        "dictionary = { \"mon\": \"晴れ\",\"tue\": \"雨\",\"wed\": \"晴れ\",\"thu\": \"晴れ\", \"fri\": \"曇り\",\"sat\": \"曇りのち雨\",\"sun\": \"雷雨\"}"
      ],
      "metadata": {
        "colab": {
          "base_uri": "https://localhost:8080/"
        },
        "id": "cgjPpj3X3HlM",
        "outputId": "f4f082b7-6f7b-4117-a364-59d575f2c75e"
      },
      "execution_count": 8,
      "outputs": [
        {
          "output_type": "stream",
          "name": "stdout",
          "text": [
            "晴れ\n"
          ]
        }
      ]
    }
  ]
}