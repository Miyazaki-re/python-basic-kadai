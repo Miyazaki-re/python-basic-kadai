{
  "nbformat": 4,
  "nbformat_minor": 0,
  "metadata": {
    "colab": {
      "provenance": []
    },
    "kernelspec": {
      "name": "python3",
      "display_name": "Python 3"
    },
    "language_info": {
      "name": "python"
    }
  },
  "cells": [
    {
      "cell_type": "markdown",
      "source": [
        "「array」という名前のリストを以下の内容で作成してください。\n",
        "\n",
        "リストの順序\tリストに入れる文字列\n",
        "0\t月曜日は晴れです\n",
        "1\t火曜日は雨です\n",
        "2\t水曜日は晴れです\n",
        "3\t木曜日は晴れです\n",
        "4\t金曜日は曇りです\n",
        "5\t土曜日は曇りのち雨です\n",
        "6\t日曜日は雷雨です"
      ],
      "metadata": {
        "id": "EIcoOvnSybMc"
      }
    },
    {
      "cell_type": "code",
      "source": [
        "array = {0: \"月曜日は晴れです\",1: \"火曜日は雨です\",2: \"水曜日は晴れです\",3: \"木曜日は晴れです\",4: \"金曜日は曇りです\",5: \"土曜日は曇りのち雨です\",6: \"日曜日は雷雨です\"}"
      ],
      "metadata": {
        "colab": {
          "base_uri": "https://localhost:8080/"
        },
        "id": "C1ItElE_1CWT",
        "outputId": "40fbad22-6e73-4a2b-e120-db161004e48f"
      },
      "execution_count": 3,
      "outputs": [
        {
          "output_type": "stream",
          "name": "stdout",
          "text": [
            "{0: '月曜日は晴れです', 1: '火曜日は雨です', 2: '水曜日は晴れです', 3: '木曜日は晴れです', 4: '金曜日は曇りです', 5: '土曜日は曇りのち雨です', 6: '日曜日は雷雨です'}\n"
          ]
        }
      ]
    },
    {
      "cell_type": "code",
      "source": [],
      "metadata": {
        "id": "mXJpOGBy3GfL"
      },
      "execution_count": null,
      "outputs": []
    },
    {
      "cell_type": "markdown",
      "source": [
        "「dictionary」という名前のディクショナリを以下の内容で作成してください。\n",
        "\n",
        "キー\tディクショナリに入れる文字列\n",
        "mon\t晴れ\n",
        "tue\t雨\n",
        "wed\t晴れ\n",
        "thu\t晴れ\n",
        "fri\t曇り\n",
        "sat\t曇りのち雨\n",
        "sun\t雷雨"
      ],
      "metadata": {
        "id": "YrKGwhdh3Fox"
      }
    },
    {
      "cell_type": "code",
      "source": [
        "dictionary = { \"mon\": \"晴れ\",\"tue\": \"雨\",\"wed\": \"晴れ\",\"thu\": \"晴れ\", \"fri\": \"曇り\",\"sat\": \"曇りのち雨\",\"sun\": \"雷雨\"}"
      ],
      "metadata": {
        "colab": {
          "base_uri": "https://localhost:8080/"
        },
        "id": "cgjPpj3X3HlM",
        "outputId": "7aab9457-4e0b-476f-d5a3-154eb8770e95"
      },
      "execution_count": 5,
      "outputs": [
        {
          "output_type": "stream",
          "name": "stdout",
          "text": [
            "{'mon': '晴れ', 'tue': '雨', 'wed': '晴れ', 'thu': '晴れ', 'fri': '曇り', 'sat': '曇りのち雨', 'sun': '雷雨'}\n"
          ]
        }
      ]
    }
  ]
}